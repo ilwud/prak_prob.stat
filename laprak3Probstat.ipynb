{
 "cells": [
  {
   "cell_type": "code",
   "execution_count": 1,
   "id": "b74848fe-3584-40c5-a240-6351d1cfe030",
   "metadata": {},
   "outputs": [
    {
     "name": "stdout",
     "output_type": "stream",
     "text": [
      "Data Awal:\n",
      "        Nama Gender  Angkatan  Tinggi Badan  Waktu Perjalanan Wilayah Tinggal\n",
      "0    Almegia      P      2024           164                15          Tondon\n",
      "1      Alpha      L      2024           165                90          Sirope\n",
      "2    Agrival      L      2024           167                20        Mendetek\n",
      "3   Archiles      L      2024           162                60            Gowa\n",
      "4  Anastasya      P      2024           165                30         Mamullu\n"
     ]
    }
   ],
   "source": [
    "import pandas as pd\n",
    "import numpy as np\n",
    "\n",
    "# Membaca file CSV dengan data teman SMA\n",
    "data_teman = pd.read_csv('nama_teman_SMA.csv')\n",
    "\n",
    "# Menampilkan data awal\n",
    "print(\"Data Awal:\")\n",
    "print(data_teman.head())\n"
   ]
  },
  {
   "cell_type": "code",
   "execution_count": 2,
   "id": "cc6615ba-a944-4888-ae61-c199ae71cd23",
   "metadata": {},
   "outputs": [
    {
     "name": "stdout",
     "output_type": "stream",
     "text": [
      "\n",
      "Subset Data dengan Tinggi Badan > 160:\n",
      "         Nama Gender  Angkatan  Tinggi Badan  Waktu Perjalanan Wilayah Tinggal\n",
      "0     Almegia      P      2024           164                15          Tondon\n",
      "1       Alpha      L      2024           165                90          Sirope\n",
      "2     Agrival      L      2024           167                20        Mendetek\n",
      "3    Archiles      L      2024           162                60            Gowa\n",
      "4   Anastasya      P      2024           165                30         Mamullu\n",
      "5       Denny      L      2024           168                40        Sangalla\n",
      "6     Devanes      L      2024           168                30          Burake\n",
      "8       yulma      P      2024           165                15          Tondon\n",
      "9       Rindi      P      2024           167                40        Sangalla\n",
      "10      Caren      P      2024           162                70        Mendetek\n",
      "12      Ebing      L      2024           166                20        Mendetek\n",
      "13       Gibs      L      2024           168                40        Sangalla\n",
      "15       Juan      L      2024           166                15          Tondon\n",
      "16      Kevin      L      2024           170                15          Tondon\n",
      "17     Rafael      L      2024           166                70        Mendetek\n",
      "19      Shane      L      2024           170                25          Ariang\n",
      "20      Welly      L      2024           166                30         Mamullu\n",
      "21       Widi      L      2024           200                40        Sangalla\n",
      "22      Hanan      L      2024           165                20         Jakarta\n",
      "23      Tegar      L      2024           167                40        Bittuang\n",
      "25      Zidan      L      2024           162                30      Pentalluan\n",
      "26     Marvel      L      2024           170                20         Jakarta\n",
      "27       Tito      L      2024           170                30      Pentalluan\n",
      "28      Josua      L      2024           168                20         Jakarta\n",
      "29      Fatir      L      2024           169                40        Bittuang\n",
      "30      Damar      L      2024           167                30      Pentalluan\n",
      "31      Rafli      L      2024           165                30      Pentalluan\n"
     ]
    }
   ],
   "source": [
    "# Subset Data: Memilih data dengan Tinggi Badan > 160\n",
    "subset_teman = data_teman[data_teman['Tinggi Badan'] > 160]\n",
    "print(\"\\nSubset Data dengan Tinggi Badan > 160:\")\n",
    "print(subset_teman)"
   ]
  },
  {
   "cell_type": "code",
   "execution_count": 3,
   "id": "85e3522d-c5f7-4877-9738-abe25f68ae36",
   "metadata": {},
   "outputs": [
    {
     "name": "stdout",
     "output_type": "stream",
     "text": [
      "\n",
      "Data setelah perubahan kolom Tinggi Badan:\n",
      "         Nama Gender  Angkatan Tinggi Badan  Waktu Perjalanan Wilayah Tinggal\n",
      "0     Almegia      P      2024       Tinggi                15          Tondon\n",
      "1       Alpha      L      2024       Tinggi                90          Sirope\n",
      "2     Agrival      L      2024       Tinggi                20        Mendetek\n",
      "3    Archiles      L      2024       Tinggi                60            Gowa\n",
      "4   Anastasya      P      2024       Tinggi                30         Mamullu\n",
      "5       Denny      L      2024       Tinggi                40        Sangalla\n",
      "6     Devanes      L      2024       Tinggi                30          Burake\n",
      "8       yulma      P      2024       Tinggi                15          Tondon\n",
      "9       Rindi      P      2024       Tinggi                40        Sangalla\n",
      "10      Caren      P      2024       Tinggi                70        Mendetek\n",
      "12      Ebing      L      2024       Tinggi                20        Mendetek\n",
      "13       Gibs      L      2024       Tinggi                40        Sangalla\n",
      "15       Juan      L      2024       Tinggi                15          Tondon\n",
      "16      Kevin      L      2024       Tinggi                15          Tondon\n",
      "17     Rafael      L      2024       Tinggi                70        Mendetek\n",
      "19      Shane      L      2024       Tinggi                25          Ariang\n",
      "20      Welly      L      2024       Tinggi                30         Mamullu\n",
      "21       Widi      L      2024       Tinggi                40        Sangalla\n",
      "22      Hanan      L      2024       Tinggi                20         Jakarta\n",
      "23      Tegar      L      2024       Tinggi                40        Bittuang\n",
      "25      Zidan      L      2024       Tinggi                30      Pentalluan\n",
      "26     Marvel      L      2024       Tinggi                20         Jakarta\n",
      "27       Tito      L      2024       Tinggi                30      Pentalluan\n",
      "28      Josua      L      2024       Tinggi                20         Jakarta\n",
      "29      Fatir      L      2024       Tinggi                40        Bittuang\n",
      "30      Damar      L      2024       Tinggi                30      Pentalluan\n",
      "31      Rafli      L      2024       Tinggi                30      Pentalluan\n"
     ]
    },
    {
     "name": "stderr",
     "output_type": "stream",
     "text": [
      "C:\\Users\\wudla\\AppData\\Local\\Temp\\ipykernel_8888\\4141589238.py:2: SettingWithCopyWarning: \n",
      "A value is trying to be set on a copy of a slice from a DataFrame.\n",
      "Try using .loc[row_indexer,col_indexer] = value instead\n",
      "\n",
      "See the caveats in the documentation: https://pandas.pydata.org/pandas-docs/stable/user_guide/indexing.html#returning-a-view-versus-a-copy\n",
      "  subset_teman['Tinggi Badan'] = subset_teman['Tinggi Badan'].apply(lambda x: 'Tinggi' if x > 160 else 'Pendek')\n"
     ]
    }
   ],
   "source": [
    "# Mengubah nilai dalam kolom Tinggi Badan\n",
    "subset_teman['Tinggi Badan'] = subset_teman['Tinggi Badan'].apply(lambda x: 'Tinggi' if x > 160 else 'Pendek')\n",
    "print(\"\\nData setelah perubahan kolom Tinggi Badan:\")\n",
    "print(subset_teman)"
   ]
  },
  {
   "cell_type": "code",
   "execution_count": 4,
   "id": "d61746ed-23dd-4bf6-91bf-b8faf00c5821",
   "metadata": {},
   "outputs": [
    {
     "name": "stdout",
     "output_type": "stream",
     "text": [
      "\n",
      "Data setelah menambah variabel baru:\n",
      "         Nama Gender  Angkatan Tinggi Badan  Waktu Perjalanan Wilayah Tinggal  \\\n",
      "0     Almegia      P      2024       Tinggi                15          Tondon   \n",
      "1       Alpha      L      2024       Tinggi                90          Sirope   \n",
      "2     Agrival      L      2024       Tinggi                20        Mendetek   \n",
      "3    Archiles      L      2024       Tinggi                60            Gowa   \n",
      "4   Anastasya      P      2024       Tinggi                30         Mamullu   \n",
      "5       Denny      L      2024       Tinggi                40        Sangalla   \n",
      "6     Devanes      L      2024       Tinggi                30          Burake   \n",
      "8       yulma      P      2024       Tinggi                15          Tondon   \n",
      "9       Rindi      P      2024       Tinggi                40        Sangalla   \n",
      "10      Caren      P      2024       Tinggi                70        Mendetek   \n",
      "12      Ebing      L      2024       Tinggi                20        Mendetek   \n",
      "13       Gibs      L      2024       Tinggi                40        Sangalla   \n",
      "15       Juan      L      2024       Tinggi                15          Tondon   \n",
      "16      Kevin      L      2024       Tinggi                15          Tondon   \n",
      "17     Rafael      L      2024       Tinggi                70        Mendetek   \n",
      "19      Shane      L      2024       Tinggi                25          Ariang   \n",
      "20      Welly      L      2024       Tinggi                30         Mamullu   \n",
      "21       Widi      L      2024       Tinggi                40        Sangalla   \n",
      "22      Hanan      L      2024       Tinggi                20         Jakarta   \n",
      "23      Tegar      L      2024       Tinggi                40        Bittuang   \n",
      "25      Zidan      L      2024       Tinggi                30      Pentalluan   \n",
      "26     Marvel      L      2024       Tinggi                20         Jakarta   \n",
      "27       Tito      L      2024       Tinggi                30      Pentalluan   \n",
      "28      Josua      L      2024       Tinggi                20         Jakarta   \n",
      "29      Fatir      L      2024       Tinggi                40        Bittuang   \n",
      "30      Damar      L      2024       Tinggi                30      Pentalluan   \n",
      "31      Rafli      L      2024       Tinggi                30      Pentalluan   \n",
      "\n",
      "    Jurusan Fakultas  \n",
      "0   Infor20      FTI  \n",
      "1   Infor20      FTI  \n",
      "2   Infor20      FTI  \n",
      "3   Infor20      FTI  \n",
      "4   Infor20      FTI  \n",
      "5   Infor20      FTI  \n",
      "6   Infor20      FTI  \n",
      "8   Infor20      FTI  \n",
      "9   Infor20      FTI  \n",
      "10  Infor20      FTI  \n",
      "12  Infor20      FTI  \n",
      "13  Infor20      FTI  \n",
      "15  Infor20      FTI  \n",
      "16  Infor20      FTI  \n",
      "17  Infor20      FTI  \n",
      "19  Infor20      FTI  \n",
      "20  Infor20      FTI  \n",
      "21  Infor20      FTI  \n",
      "22  Infor20      FTI  \n",
      "23  Infor20      FTI  \n",
      "25  Infor20      FTI  \n",
      "26  Infor20      FTI  \n",
      "27  Infor20      FTI  \n",
      "28  Infor20      FTI  \n",
      "29  Infor20      FTI  \n",
      "30  Infor20      FTI  \n",
      "31  Infor20      FTI  \n"
     ]
    },
    {
     "name": "stderr",
     "output_type": "stream",
     "text": [
      "C:\\Users\\wudla\\AppData\\Local\\Temp\\ipykernel_8888\\2205270554.py:2: SettingWithCopyWarning: \n",
      "A value is trying to be set on a copy of a slice from a DataFrame.\n",
      "Try using .loc[row_indexer,col_indexer] = value instead\n",
      "\n",
      "See the caveats in the documentation: https://pandas.pydata.org/pandas-docs/stable/user_guide/indexing.html#returning-a-view-versus-a-copy\n",
      "  subset_teman['Jurusan'] = 'Infor20'\n",
      "C:\\Users\\wudla\\AppData\\Local\\Temp\\ipykernel_8888\\2205270554.py:3: SettingWithCopyWarning: \n",
      "A value is trying to be set on a copy of a slice from a DataFrame.\n",
      "Try using .loc[row_indexer,col_indexer] = value instead\n",
      "\n",
      "See the caveats in the documentation: https://pandas.pydata.org/pandas-docs/stable/user_guide/indexing.html#returning-a-view-versus-a-copy\n",
      "  subset_teman['Fakultas'] = 'FTI'\n"
     ]
    }
   ],
   "source": [
    "# Menambah variabel baru\n",
    "subset_teman['Jurusan'] = 'Infor20'\n",
    "subset_teman['Fakultas'] = 'FTI'\n",
    "print(\"\\nData setelah menambah variabel baru:\")\n",
    "print(subset_teman)"
   ]
  },
  {
   "cell_type": "code",
   "execution_count": 5,
   "id": "db1cd89e-6fc5-4f5f-b53a-d82eff001c0a",
   "metadata": {},
   "outputs": [
    {
     "name": "stdout",
     "output_type": "stream",
     "text": [
      "\n",
      "Data setelah menghapus kolom Fakultas:\n",
      "         Nama Gender  Angkatan Tinggi Badan  Waktu Perjalanan Wilayah Tinggal  \\\n",
      "0     Almegia      P      2024       Tinggi                15          Tondon   \n",
      "1       Alpha      L      2024       Tinggi                90          Sirope   \n",
      "2     Agrival      L      2024       Tinggi                20        Mendetek   \n",
      "3    Archiles      L      2024       Tinggi                60            Gowa   \n",
      "4   Anastasya      P      2024       Tinggi                30         Mamullu   \n",
      "5       Denny      L      2024       Tinggi                40        Sangalla   \n",
      "6     Devanes      L      2024       Tinggi                30          Burake   \n",
      "8       yulma      P      2024       Tinggi                15          Tondon   \n",
      "9       Rindi      P      2024       Tinggi                40        Sangalla   \n",
      "10      Caren      P      2024       Tinggi                70        Mendetek   \n",
      "12      Ebing      L      2024       Tinggi                20        Mendetek   \n",
      "13       Gibs      L      2024       Tinggi                40        Sangalla   \n",
      "15       Juan      L      2024       Tinggi                15          Tondon   \n",
      "16      Kevin      L      2024       Tinggi                15          Tondon   \n",
      "17     Rafael      L      2024       Tinggi                70        Mendetek   \n",
      "19      Shane      L      2024       Tinggi                25          Ariang   \n",
      "20      Welly      L      2024       Tinggi                30         Mamullu   \n",
      "21       Widi      L      2024       Tinggi                40        Sangalla   \n",
      "22      Hanan      L      2024       Tinggi                20         Jakarta   \n",
      "23      Tegar      L      2024       Tinggi                40        Bittuang   \n",
      "25      Zidan      L      2024       Tinggi                30      Pentalluan   \n",
      "26     Marvel      L      2024       Tinggi                20         Jakarta   \n",
      "27       Tito      L      2024       Tinggi                30      Pentalluan   \n",
      "28      Josua      L      2024       Tinggi                20         Jakarta   \n",
      "29      Fatir      L      2024       Tinggi                40        Bittuang   \n",
      "30      Damar      L      2024       Tinggi                30      Pentalluan   \n",
      "31      Rafli      L      2024       Tinggi                30      Pentalluan   \n",
      "\n",
      "    Jurusan  \n",
      "0   Infor20  \n",
      "1   Infor20  \n",
      "2   Infor20  \n",
      "3   Infor20  \n",
      "4   Infor20  \n",
      "5   Infor20  \n",
      "6   Infor20  \n",
      "8   Infor20  \n",
      "9   Infor20  \n",
      "10  Infor20  \n",
      "12  Infor20  \n",
      "13  Infor20  \n",
      "15  Infor20  \n",
      "16  Infor20  \n",
      "17  Infor20  \n",
      "19  Infor20  \n",
      "20  Infor20  \n",
      "21  Infor20  \n",
      "22  Infor20  \n",
      "23  Infor20  \n",
      "25  Infor20  \n",
      "26  Infor20  \n",
      "27  Infor20  \n",
      "28  Infor20  \n",
      "29  Infor20  \n",
      "30  Infor20  \n",
      "31  Infor20  \n"
     ]
    }
   ],
   "source": [
    "\n",
    "# Menghapus kolom Fakultas\n",
    "subset_teman = subset_teman.drop(columns=['Fakultas'])\n",
    "print(\"\\nData setelah menghapus kolom Fakultas:\")\n",
    "print(subset_teman)"
   ]
  },
  {
   "cell_type": "code",
   "execution_count": 6,
   "id": "713f6f79-9abe-493d-8699-90c191873fb9",
   "metadata": {},
   "outputs": [
    {
     "name": "stdout",
     "output_type": "stream",
     "text": [
      "\n",
      "Data setelah merge kolom:\n",
      "         Nama Gender  Angkatan  Tinggi Badan\n",
      "0     Almegia      P      2024           164\n",
      "1       Alpha      L      2024           165\n",
      "2     Agrival      L      2024           167\n",
      "3    Archiles      L      2024           162\n",
      "4   Anastasya      P      2024           165\n",
      "5       Denny      L      2024           168\n",
      "6     Devanes      L      2024           168\n",
      "7         Evy      P      2024           155\n",
      "8       yulma      P      2024           165\n",
      "9       Rindi      P      2024           167\n",
      "10      Caren      P      2024           162\n",
      "11        Eka      P      2024           150\n",
      "12      Ebing      L      2024           166\n",
      "13       Gibs      L      2024           168\n",
      "14     Ifandi      L      2024           160\n",
      "15       Juan      L      2024           166\n",
      "16      Kevin      L      2024           170\n",
      "17     Rafael      L      2024           166\n",
      "18      Restu      L      2024           160\n",
      "19      Shane      L      2024           170\n",
      "20      Welly      L      2024           166\n",
      "21       Widi      L      2024           200\n",
      "22      Hanan      L      2024           165\n",
      "23      Tegar      L      2024           167\n",
      "24      Hilal      L      2024           160\n",
      "25      Zidan      L      2024           162\n",
      "26     Marvel      L      2024           170\n",
      "27       Tito      L      2024           170\n",
      "28      Josua      L      2024           168\n",
      "29      Fatir      L      2024           169\n",
      "30      Damar      L      2024           167\n",
      "31      Rafli      L      2024           165\n"
     ]
    }
   ],
   "source": [
    "# Merge Kolom: Menggabungkan kolom Nama dan Gender\n",
    "kolom_nama_gender = data_teman[['Nama', 'Gender']]\n",
    "kolom_angkatan_tinggi = data_teman[['Angkatan', 'Tinggi Badan']]\n",
    "gabungan_kolom = pd.concat([kolom_nama_gender, kolom_angkatan_tinggi], axis=1)\n",
    "print(\"\\nData setelah merge kolom:\")\n",
    "print(gabungan_kolom)"
   ]
  },
  {
   "cell_type": "code",
   "execution_count": 7,
   "id": "52310eb5-3aec-420a-85ff-843b2c3a2fe6",
   "metadata": {},
   "outputs": [
    {
     "name": "stdout",
     "output_type": "stream",
     "text": [
      "\n",
      "Data setelah merge baris:\n",
      "         Nama Gender  Angkatan  Tinggi Badan  Waktu Perjalanan Wilayah Tinggal\n",
      "0     Almegia      P      2024           164                15          Tondon\n",
      "1       Alpha      L      2024           165                90          Sirope\n",
      "2     Agrival      L      2024           167                20        Mendetek\n",
      "3    Archiles      L      2024           162                60            Gowa\n",
      "4   Anastasya      P      2024           165                30         Mamullu\n",
      "24      Hilal      L      2024           160                40        Bittuang\n",
      "25      Zidan      L      2024           162                30      Pentalluan\n",
      "26     Marvel      L      2024           170                20         Jakarta\n",
      "27       Tito      L      2024           170                30      Pentalluan\n",
      "28      Josua      L      2024           168                20         Jakarta\n",
      "29      Fatir      L      2024           169                40        Bittuang\n"
     ]
    }
   ],
   "source": [
    "# Merge Baris: Menggabungkan baris 1-5 dan 25-30\n",
    "baris1sd5 = data_teman.iloc[0:5, :]\n",
    "baris25sd30 = data_teman.iloc[24:30, :]\n",
    "baris_merged = pd.concat([baris1sd5, baris25sd30])\n",
    "print(\"\\nData setelah merge baris:\")\n",
    "print(baris_merged)"
   ]
  },
  {
   "cell_type": "code",
   "execution_count": 8,
   "id": "678185d5-d7af-4372-aaf0-50d68120f38a",
   "metadata": {},
   "outputs": [
    {
     "name": "stdout",
     "output_type": "stream",
     "text": [
      "\n",
      "Data setelah sorting berdasarkan Waktu Perjalanan:\n",
      "         Nama Gender  Angkatan  Tinggi Badan  Waktu Perjalanan Wilayah Tinggal\n",
      "0     Almegia      P      2024           164                15          Tondon\n",
      "16      Kevin      L      2024           170                15          Tondon\n",
      "8       yulma      P      2024           165                15          Tondon\n",
      "15       Juan      L      2024           166                15          Tondon\n",
      "28      Josua      L      2024           168                20         Jakarta\n",
      "2     Agrival      L      2024           167                20        Mendetek\n",
      "26     Marvel      L      2024           170                20         Jakarta\n",
      "22      Hanan      L      2024           165                20         Jakarta\n",
      "12      Ebing      L      2024           166                20        Mendetek\n",
      "7         Evy      P      2024           155                25          Ariang\n",
      "14     Ifandi      L      2024           160                25          Ariang\n",
      "19      Shane      L      2024           170                25          Ariang\n",
      "4   Anastasya      P      2024           165                30         Mamullu\n",
      "27       Tito      L      2024           170                30      Pentalluan\n",
      "25      Zidan      L      2024           162                30      Pentalluan\n",
      "20      Welly      L      2024           166                30         Mamullu\n",
      "31      Rafli      L      2024           165                30      Pentalluan\n",
      "30      Damar      L      2024           167                30      Pentalluan\n",
      "11        Eka      P      2024           150                30         Mamullu\n",
      "6     Devanes      L      2024           168                30          Burake\n",
      "18      Restu      L      2024           160                40        Sangalla\n",
      "13       Gibs      L      2024           168                40        Sangalla\n",
      "21       Widi      L      2024           200                40        Sangalla\n",
      "23      Tegar      L      2024           167                40        Bittuang\n",
      "24      Hilal      L      2024           160                40        Bittuang\n",
      "9       Rindi      P      2024           167                40        Sangalla\n",
      "5       Denny      L      2024           168                40        Sangalla\n",
      "29      Fatir      L      2024           169                40        Bittuang\n",
      "3    Archiles      L      2024           162                60            Gowa\n",
      "10      Caren      P      2024           162                70        Mendetek\n",
      "17     Rafael      L      2024           166                70        Mendetek\n",
      "1       Alpha      L      2024           165                90          Sirope\n"
     ]
    }
   ],
   "source": [
    "# Sorting data berdasarkan Waktu Perjalanan\n",
    "data_teman_sort = data_teman.sort_values(by='Waktu Perjalanan')\n",
    "print(\"\\nData setelah sorting berdasarkan Waktu Perjalanan:\")\n",
    "print(data_teman_sort)"
   ]
  },
  {
   "cell_type": "code",
   "execution_count": null,
   "id": "d41264cf-8bbd-4f32-a6ac-d93b3541be76",
   "metadata": {},
   "outputs": [],
   "source": []
  }
 ],
 "metadata": {
  "kernelspec": {
   "display_name": "Python 3 (ipykernel)",
   "language": "python",
   "name": "python3"
  },
  "language_info": {
   "codemirror_mode": {
    "name": "ipython",
    "version": 3
   },
   "file_extension": ".py",
   "mimetype": "text/x-python",
   "name": "python",
   "nbconvert_exporter": "python",
   "pygments_lexer": "ipython3",
   "version": "3.12.4"
  }
 },
 "nbformat": 4,
 "nbformat_minor": 5
}
