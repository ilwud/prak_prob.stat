{
 "cells": [
  {
   "cell_type": "code",
   "execution_count": null,
   "id": "9ae8c2ad",
   "metadata": {},
   "outputs": [],
   "source": []
  },
  {
   "cell_type": "code",
   "execution_count": 9,
   "id": "af525b27",
   "metadata": {},
   "outputs": [
    {
     "name": "stdout",
     "output_type": "stream",
     "text": [
      "Probabilitas P(X=k) untuk distribusi binomial: 0.1171875\n"
     ]
    }
   ],
   "source": [
    "import math\n",
    "\n",
    "# Fungsi untuk menghitung kombinasi (n choose k)\n",
    "def n_choose_k(n, k):\n",
    "    return math.factorial(n) / (math.factorial(k) * math.factorial(n - k))\n",
    "\n",
    "# Fungsi untuk menghitung probabilitas P(X=k) dalam distribusi binomial\n",
    "def binomial_probability(n, k, p):\n",
    "    return n_choose_k(n, k) * (p ** k) * ((1 - p) ** (n - k))\n",
    "\n",
    "# Parameter distribusi binomial\n",
    "n = 10  # jumlah percobaan\n",
    "p = 0.5  # probabilitas keberhasilan dalam satu percobaan\n",
    "k = 3  # jumlah keberhasilan yang diinginkan\n",
    "\n",
    "# Menghitung probabilitas P(X=k) untuk distribusi binomial\n",
    "prob_binomial = binomial_probability(n, k, p)\n",
    "print(\"Probabilitas P(X=k) untuk distribusi binomial:\", prob_binomial)\n"
   ]
  },
  {
   "cell_type": "code",
   "execution_count": 10,
   "id": "b3d3f9da",
   "metadata": {},
   "outputs": [
    {
     "name": "stdout",
     "output_type": "stream",
     "text": [
      "Probabilitas P(X=k) untuk distribusi binomial: 0.1171875\n"
     ]
    }
   ],
   "source": [
    "from scipy.stats import binom\n",
    "    \n",
    "# Distribusi Binomial\n",
    "n = 10  # jumlah percobaan\n",
    "p = 0.5  # probabilitas keberhasilan dalam satu percobaan\n",
    "k = 3  # jumlah keberhasilan yang diinginkan\n",
    "\n",
    "prob_binomial = binom.pmf(k, n, p)\n",
    "print(\"Probabilitas P(X=k) untuk distribusi binomial:\", prob_binomial)\n"
   ]
  },
  {
   "cell_type": "code",
   "execution_count": 11,
   "id": "7d818a7d",
   "metadata": {},
   "outputs": [
    {
     "name": "stdout",
     "output_type": "stream",
     "text": [
      "Probabilitas P(X=k) untuk distribusi Poisson: 0.22404180765538775\n"
     ]
    }
   ],
   "source": [
    "import math\n",
    "\n",
    "# Fungsi untuk menghitung probabilitas P(X=k) dalam distribusi Poisson\n",
    "def poisson_probability(lambd, k):\n",
    "    return (lambd ** k) * math.exp(-lambd) / math.factorial(k)\n",
    "\n",
    "# Parameter distribusi Poisson\n",
    "lambd = 3  # rata-rata jumlah peristiwa dalam interval waktu/titik\n",
    "k = 2  # jumlah peristiwa yang diinginkan\n",
    "\n",
    "# Menghitung probabilitas P(X=k) untuk distribusi Poisson\n",
    "prob_poisson = poisson_probability(lambd, k)\n",
    "print(\"Probabilitas P(X=k) untuk distribusi Poisson:\", prob_poisson)\n"
   ]
  },
  {
   "cell_type": "code",
   "execution_count": 13,
   "id": "e9c046c2",
   "metadata": {},
   "outputs": [
    {
     "name": "stdout",
     "output_type": "stream",
     "text": [
      "Probabilitas P(X=k) untuk distribusi Poisson: 0.22404180765538775\n"
     ]
    }
   ],
   "source": [
    "from scipy.stats import poisson\n",
    "\n",
    "# Distribusi Poisson\n",
    "lambd = 3  # rata-rata jumlah peristiwa dalam interval waktu/titik\n",
    "k = 2      # jumlah peristiwa yang diinginkan\n",
    "\n",
    "prob_poisson = poisson.pmf(k, lambd)\n",
    "print(\"Probabilitas P(X=k) untuk distribusi Poisson:\", prob_poisson)\n"
   ]
  },
  {
   "cell_type": "code",
   "execution_count": 16,
   "id": "2163c21c",
   "metadata": {},
   "outputs": [
    {
     "name": "stdout",
     "output_type": "stream",
     "text": [
      "0.1285054390988551\n",
      "0.8159389308936089\n",
      "0.002216045197080002\n"
     ]
    }
   ],
   "source": [
    "from scipy import stats\n",
    "x = stats.binom(15, 0.1)\n",
    "print(x.pmf(3)) #p(x = 3)\n",
    "\n",
    "print(x.cdf(2)) #p(x <=2)\n",
    "\n",
    "print(x.pmf(6)+x.pmf(7))\n"
   ]
  },
  {
   "cell_type": "code",
   "execution_count": 19,
   "id": "c2c0d06d",
   "metadata": {},
   "outputs": [
    {
     "name": "stdout",
     "output_type": "stream",
     "text": [
      "0.17546736976785063\n"
     ]
    }
   ],
   "source": [
    "from scipy import stats\n",
    "y = stats.poisson(5)\n",
    "print(y.pmf(4))   #p( y = 4)"
   ]
  },
  {
   "cell_type": "code",
   "execution_count": 21,
   "id": "62c40051",
   "metadata": {},
   "outputs": [
    {
     "name": "stdout",
     "output_type": "stream",
     "text": [
      "0.17886305056987967\n"
     ]
    }
   ],
   "source": [
    "from scipy import stats\n",
    "\n",
    "#mendefinisikan variabel x sebagai distribusi binomial dengan 15 percobaan dan probabilitas sukses  0.1\n",
    "x = stats.binom(20, 0.7)\n",
    "\n",
    "#menghitung probabilitas massa X sama dengan 3\n",
    "pmf_15 = x.pmf(15)\n",
    "\n",
    "#mencetak nilai probabilitas\n",
    "print(pmf_15)"
   ]
  },
  {
   "cell_type": "code",
   "execution_count": 23,
   "id": "66348021",
   "metadata": {},
   "outputs": [
    {
     "name": "stdout",
     "output_type": "stream",
     "text": [
      "0.18044704431548356\n"
     ]
    }
   ],
   "source": [
    "from scipy import stats\n",
    "y = stats.poisson(2)\n",
    "\n",
    "print(y.pmf(3)) #\\(P(Y=3)|)"
   ]
  },
  {
   "cell_type": "code",
   "execution_count": null,
   "id": "d5b3fe51",
   "metadata": {},
   "outputs": [],
   "source": []
  }
 ],
 "metadata": {
  "kernelspec": {
   "display_name": "base",
   "language": "python",
   "name": "python3"
  },
  "language_info": {
   "codemirror_mode": {
    "name": "ipython",
    "version": 3
   },
   "file_extension": ".py",
   "mimetype": "text/x-python",
   "name": "python",
   "nbconvert_exporter": "python",
   "pygments_lexer": "ipython3",
   "version": "3.12.4"
  }
 },
 "nbformat": 4,
 "nbformat_minor": 5
}
